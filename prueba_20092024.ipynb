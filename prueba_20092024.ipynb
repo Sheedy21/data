{
 "cells": [
  {
   "cell_type": "code",
   "execution_count": 1,
   "id": "b662356e-2c65-4346-a8f1-a4f881016d2d",
   "metadata": {},
   "outputs": [],
   "source": [
    "# Required libraries\n",
    "import pandas as pd\n",
    "import numpy as np\n",
    "from sklearn.model_selection import train_test_split\n",
    "from sklearn.ensemble import RandomForestRegressor\n",
    "from statsmodels.tsa.arima.model import ARIMA\n",
    "import matplotlib.pyplot as plt\n"
   ]
  },
  {
   "cell_type": "code",
   "execution_count": 66,
   "id": "c7c08629-2604-450c-996a-aaf235d7d585",
   "metadata": {},
   "outputs": [
    {
     "data": {
      "text/html": [
       "<div>\n",
       "<style scoped>\n",
       "    .dataframe tbody tr th:only-of-type {\n",
       "        vertical-align: middle;\n",
       "    }\n",
       "\n",
       "    .dataframe tbody tr th {\n",
       "        vertical-align: top;\n",
       "    }\n",
       "\n",
       "    .dataframe thead th {\n",
       "        text-align: right;\n",
       "    }\n",
       "</style>\n",
       "<table border=\"1\" class=\"dataframe\">\n",
       "  <thead>\n",
       "    <tr style=\"text-align: right;\">\n",
       "      <th></th>\n",
       "      <th>Sku</th>\n",
       "      <th>Date</th>\n",
       "      <th>Store_Id</th>\n",
       "      <th>Units</th>\n",
       "      <th>Price</th>\n",
       "      <th>Cadena</th>\n",
       "    </tr>\n",
       "  </thead>\n",
       "  <tbody>\n",
       "    <tr>\n",
       "      <th>0</th>\n",
       "      <td>4220015</td>\n",
       "      <td>2017-01-01 SO Diaria Piezas</td>\n",
       "      <td>18</td>\n",
       "      <td>6.0</td>\n",
       "      <td>15.6</td>\n",
       "      <td>proveedor_1</td>\n",
       "    </tr>\n",
       "    <tr>\n",
       "      <th>1</th>\n",
       "      <td>4220015</td>\n",
       "      <td>2017-01-01 SO Diaria Piezas</td>\n",
       "      <td>24</td>\n",
       "      <td>0.0</td>\n",
       "      <td>0.0</td>\n",
       "      <td>proveedor_1</td>\n",
       "    </tr>\n",
       "    <tr>\n",
       "      <th>2</th>\n",
       "      <td>4220015</td>\n",
       "      <td>2017-01-01 SO Diaria Piezas</td>\n",
       "      <td>39</td>\n",
       "      <td>0.0</td>\n",
       "      <td>0.0</td>\n",
       "      <td>proveedor_1</td>\n",
       "    </tr>\n",
       "    <tr>\n",
       "      <th>3</th>\n",
       "      <td>4220015</td>\n",
       "      <td>2017-01-01 SO Diaria Piezas</td>\n",
       "      <td>44</td>\n",
       "      <td>0.0</td>\n",
       "      <td>0.0</td>\n",
       "      <td>proveedor_1</td>\n",
       "    </tr>\n",
       "    <tr>\n",
       "      <th>4</th>\n",
       "      <td>4220015</td>\n",
       "      <td>2017-01-01 SO Diaria Piezas</td>\n",
       "      <td>46</td>\n",
       "      <td>0.0</td>\n",
       "      <td>0.0</td>\n",
       "      <td>proveedor_1</td>\n",
       "    </tr>\n",
       "  </tbody>\n",
       "</table>\n",
       "</div>"
      ],
      "text/plain": [
       "       Sku                         Date  Store_Id  Units  Price       Cadena\n",
       "0  4220015  2017-01-01 SO Diaria Piezas        18    6.0   15.6  proveedor_1\n",
       "1  4220015  2017-01-01 SO Diaria Piezas        24    0.0    0.0  proveedor_1\n",
       "2  4220015  2017-01-01 SO Diaria Piezas        39    0.0    0.0  proveedor_1\n",
       "3  4220015  2017-01-01 SO Diaria Piezas        44    0.0    0.0  proveedor_1\n",
       "4  4220015  2017-01-01 SO Diaria Piezas        46    0.0    0.0  proveedor_1"
      ]
     },
     "execution_count": 66,
     "metadata": {},
     "output_type": "execute_result"
    }
   ],
   "source": [
    "ventas_proveedor1.head()"
   ]
  },
  {
   "cell_type": "code",
   "execution_count": 69,
   "id": "948669ff-29af-41c6-91a8-9a6d92437bec",
   "metadata": {},
   "outputs": [
    {
     "data": {
      "text/html": [
       "<div>\n",
       "<style scoped>\n",
       "    .dataframe tbody tr th:only-of-type {\n",
       "        vertical-align: middle;\n",
       "    }\n",
       "\n",
       "    .dataframe tbody tr th {\n",
       "        vertical-align: top;\n",
       "    }\n",
       "\n",
       "    .dataframe thead th {\n",
       "        text-align: right;\n",
       "    }\n",
       "</style>\n",
       "<table border=\"1\" class=\"dataframe\">\n",
       "  <thead>\n",
       "    <tr style=\"text-align: right;\">\n",
       "      <th></th>\n",
       "      <th>Sku</th>\n",
       "      <th>Date</th>\n",
       "      <th>Store_Id</th>\n",
       "      <th>Pieces</th>\n",
       "      <th>Price</th>\n",
       "      <th>Cadena</th>\n",
       "    </tr>\n",
       "  </thead>\n",
       "  <tbody>\n",
       "    <tr>\n",
       "      <th>0</th>\n",
       "      <td>4240039</td>\n",
       "      <td>2016/01/01</td>\n",
       "      <td>1000</td>\n",
       "      <td>23.0</td>\n",
       "      <td>$16.00</td>\n",
       "      <td>proveedor_2</td>\n",
       "    </tr>\n",
       "    <tr>\n",
       "      <th>1</th>\n",
       "      <td>4240039</td>\n",
       "      <td>2016/01/01</td>\n",
       "      <td>1001</td>\n",
       "      <td>116.0</td>\n",
       "      <td>$16.00</td>\n",
       "      <td>proveedor_2</td>\n",
       "    </tr>\n",
       "    <tr>\n",
       "      <th>2</th>\n",
       "      <td>4240039</td>\n",
       "      <td>2016/01/01</td>\n",
       "      <td>1002</td>\n",
       "      <td>146.0</td>\n",
       "      <td>$16.00</td>\n",
       "      <td>proveedor_2</td>\n",
       "    </tr>\n",
       "    <tr>\n",
       "      <th>3</th>\n",
       "      <td>4240039</td>\n",
       "      <td>2016/01/01</td>\n",
       "      <td>1003</td>\n",
       "      <td>17.0</td>\n",
       "      <td>$16.80</td>\n",
       "      <td>proveedor_2</td>\n",
       "    </tr>\n",
       "    <tr>\n",
       "      <th>4</th>\n",
       "      <td>4240039</td>\n",
       "      <td>2016/01/01</td>\n",
       "      <td>1004</td>\n",
       "      <td>5.0</td>\n",
       "      <td>$16.70</td>\n",
       "      <td>proveedor_2</td>\n",
       "    </tr>\n",
       "  </tbody>\n",
       "</table>\n",
       "</div>"
      ],
      "text/plain": [
       "       Sku        Date  Store_Id  Pieces   Price       Cadena\n",
       "0  4240039  2016/01/01      1000    23.0  $16.00  proveedor_2\n",
       "1  4240039  2016/01/01      1001   116.0  $16.00  proveedor_2\n",
       "2  4240039  2016/01/01      1002   146.0  $16.00  proveedor_2\n",
       "3  4240039  2016/01/01      1003    17.0  $16.80  proveedor_2\n",
       "4  4240039  2016/01/01      1004     5.0  $16.70  proveedor_2"
      ]
     },
     "execution_count": 69,
     "metadata": {},
     "output_type": "execute_result"
    }
   ],
   "source": [
    "ventas_proveedor2.head()"
   ]
  },
  {
   "cell_type": "code",
   "execution_count": 65,
   "id": "743a9f30-98a0-44aa-90d1-d58db601d8c9",
   "metadata": {},
   "outputs": [
    {
     "name": "stdout",
     "output_type": "stream",
     "text": [
      "dim clientes: (2452, 10)\n",
      "   Store_Id              Nombre_tienda       Cadena Formato  \\\n",
      "0         2  Bloody Sea Green BookShop  proveedor_1    Shop   \n",
      "1         4  Funny Sky Blue GipsyTrade  proveedor_1    Shop   \n",
      "\n",
      "            Municipio   Estado Division    Distribuidor      Estructura Grado  \n",
      "0  Bizarre White Shop  Coalmar  SURESTE  Mogulval Corp.  DISTRIBUIDORES    VI  \n",
      "1  Bizarre White Shop  Coalmar  SURESTE  Mogulval Corp.  DISTRIBUIDORES    VI   \n",
      "\n",
      "dim productos: (1242, 4)\n",
      "     Sku      Sku_Description   Sku_Category Sku_Subcategory\n",
      "0  11058       Frosted Mango      Sugar-free     Cereal bars\n",
      "1  29207  Nut Cheerios Mango   Super-flavour      Cereal box \n",
      "\n",
      "dim ventas: (6068394, 7)\n",
      "       Sku                         Date  Store_Id  Units Price       Cadena  \\\n",
      "0  4220015  2017-01-01 SO Diaria Piezas        18    6.0  15.6  proveedor_1   \n",
      "1  4220015  2017-01-01 SO Diaria Piezas        24    0.0   0.0  proveedor_1   \n",
      "\n",
      "   Pieces  \n",
      "0     NaN  \n",
      "1     NaN   \n",
      "\n"
     ]
    }
   ],
   "source": [
    "# Carga de datos\n",
    "\n",
    "clientes = pd.read_csv('maestro_clientes_prueba.csv', sep = ';',low_memory=False)\n",
    "productos = pd.read_csv('maestro_productos_prueba.csv', sep = ',',low_memory=False)\n",
    "ventas_proveedor1 = pd.read_csv('sellout_proveedor1.csv', sep = ',',low_memory=False)\n",
    "ventas_proveedor2 = pd.read_csv('sellout_proveedor2.csv', sep = ',',low_memory=False)\n",
    "\n",
    "##\n",
    "clientes.columns = ['Store_Id','Nombre_tienda','Cadena','Formato','Municipio','Estado','Division','Distribuidor','Estructura','Grado']\n",
    "ventas_proveedor1['Cadena'] = 'proveedor_1'\n",
    "ventas_proveedor2['Cadena'] = 'proveedor_2'\n",
    "ventas_df = pd.concat([ventas_proveedor1,ventas_proveedor2])\n",
    "\n",
    "print(\"dim clientes: \" + str(clientes.shape))\n",
    "print(clientes.head(2) , '\\n')\n",
    "\n",
    "print(\"dim productos: \" + str(productos.shape))\n",
    "print(productos.head(2) , '\\n')\n",
    "\n",
    "print(\"dim ventas: \" + str(ventas_df.shape))\n",
    "print(ventas_df.head(2) , '\\n')"
   ]
  },
  {
   "cell_type": "code",
   "execution_count": 64,
   "id": "f49768b6-89c9-4089-af1e-3a3ebb2c8b06",
   "metadata": {},
   "outputs": [
    {
     "data": {
      "text/html": [
       "<div>\n",
       "<style scoped>\n",
       "    .dataframe tbody tr th:only-of-type {\n",
       "        vertical-align: middle;\n",
       "    }\n",
       "\n",
       "    .dataframe tbody tr th {\n",
       "        vertical-align: top;\n",
       "    }\n",
       "\n",
       "    .dataframe thead th {\n",
       "        text-align: right;\n",
       "    }\n",
       "</style>\n",
       "<table border=\"1\" class=\"dataframe\">\n",
       "  <thead>\n",
       "    <tr style=\"text-align: right;\">\n",
       "      <th></th>\n",
       "      <th>Sku</th>\n",
       "      <th>Date</th>\n",
       "      <th>Store_Id</th>\n",
       "      <th>Units</th>\n",
       "      <th>Price</th>\n",
       "      <th>Cadena</th>\n",
       "      <th>Pieces</th>\n",
       "      <th>Sku_Description</th>\n",
       "      <th>Sku_Category</th>\n",
       "      <th>Sku_Subcategory</th>\n",
       "      <th>Nombre_tienda</th>\n",
       "      <th>Formato</th>\n",
       "      <th>Municipio</th>\n",
       "      <th>Estado</th>\n",
       "      <th>Division</th>\n",
       "      <th>Distribuidor</th>\n",
       "      <th>Estructura</th>\n",
       "      <th>Grado</th>\n",
       "    </tr>\n",
       "  </thead>\n",
       "  <tbody>\n",
       "  </tbody>\n",
       "</table>\n",
       "</div>"
      ],
      "text/plain": [
       "Empty DataFrame\n",
       "Columns: [Sku, Date, Store_Id, Units, Price, Cadena, Pieces, Sku_Description, Sku_Category, Sku_Subcategory, Nombre_tienda, Formato, Municipio, Estado, Division, Distribuidor, Estructura, Grado]\n",
       "Index: []"
      ]
     },
     "execution_count": 64,
     "metadata": {},
     "output_type": "execute_result"
    }
   ],
   "source": [
    "ventas[(ventas['Cadena']=='proveedor_1') & (ventas['Units'].isna())]"
   ]
  },
  {
   "cell_type": "code",
   "execution_count": 52,
   "id": "1654fc81-7afc-40f3-9c7e-94d293b139e1",
   "metadata": {},
   "outputs": [
    {
     "data": {
      "text/plain": [
       "(6073832, 18)"
      ]
     },
     "execution_count": 52,
     "metadata": {},
     "output_type": "execute_result"
    }
   ],
   "source": [
    "ventas.shape"
   ]
  },
  {
   "cell_type": "code",
   "execution_count": 62,
   "id": "b2d0291b-ef1f-48cb-bb77-6b1348e9b03c",
   "metadata": {},
   "outputs": [
    {
     "name": "stdout",
     "output_type": "stream",
     "text": [
      "Sku                      0\n",
      "Date                     0\n",
      "Store_Id                 0\n",
      "Units              4862352\n",
      "Price                    0\n",
      "Cadena                   0\n",
      "Pieces             1211480\n",
      "Sku_Description        465\n",
      "Sku_Category           465\n",
      "Sku_Subcategory        465\n",
      "Nombre_tienda        34100\n",
      "Formato              34100\n",
      "Municipio            34100\n",
      "Estado               34100\n",
      "Division             34100\n",
      "Distribuidor         34100\n",
      "Estructura           34100\n",
      "Grado                34100\n",
      "dtype: int64\n"
     ]
    }
   ],
   "source": [
    "# Unir dataset e productos con cada proveedor\n",
    "clientes['Cadena'] = clientes['Cadena'].str.strip()\n",
    "\n",
    "ventas = ventas_df.merge(productos, on=\"Sku\", how=\"left\").merge(clientes, on=[\"Store_Id\",\"Cadena\"], how=\"left\")\n",
    "\n",
    "# Check for missing values\n",
    "print(ventas.isnull().sum())"
   ]
  },
  {
   "cell_type": "code",
   "execution_count": null,
   "id": "e4d5f8ea-e0a5-45c7-ae76-3bf2c78ab360",
   "metadata": {},
   "outputs": [],
   "source": [
    "# Merge sales data with product and store info for better analysis\n",
    "sales_data = sales_df.merge(products_df, on=\"Sku\", how=\"left\").merge(stores_df, on=\"Store_Id\", how=\"left\")\n",
    "\n",
    "# Check for missing values\n",
    "print(sales_data.isnull().sum())\n",
    "\n",
    "# Filling missing values if necessary (e.g., fill missing prices or units with the median)\n",
    "sales_data['Price'] = sales_data['Price'].fillna(sales_data['Price'].median())\n",
    "sales_data['Units'] = sales_data['Units'].fillna(sales_data['Units'].median())\n",
    "\n",
    "# Convert the 'Date' column to datetime\n",
    "sales_data['Date'] = pd.to_datetime(sales_data['Date'])\n",
    "\n",
    "# Sort data by date for time series analysis\n",
    "sales_data = sales_data.sort_values('Date')\n"
   ]
  },
  {
   "cell_type": "code",
   "execution_count": 10,
   "id": "d8cd9e27-7c60-44c4-b932-acd42ff95ed4",
   "metadata": {},
   "outputs": [
    {
     "name": "stdout",
     "output_type": "stream",
     "text": [
      "(4862029, 5)\n"
     ]
    },
    {
     "data": {
      "text/html": [
       "<div>\n",
       "<style scoped>\n",
       "    .dataframe tbody tr th:only-of-type {\n",
       "        vertical-align: middle;\n",
       "    }\n",
       "\n",
       "    .dataframe tbody tr th {\n",
       "        vertical-align: top;\n",
       "    }\n",
       "\n",
       "    .dataframe thead th {\n",
       "        text-align: right;\n",
       "    }\n",
       "</style>\n",
       "<table border=\"1\" class=\"dataframe\">\n",
       "  <thead>\n",
       "    <tr style=\"text-align: right;\">\n",
       "      <th></th>\n",
       "      <th>Sku</th>\n",
       "      <th>Date</th>\n",
       "      <th>Store_Id</th>\n",
       "      <th>Units</th>\n",
       "      <th>Price</th>\n",
       "    </tr>\n",
       "  </thead>\n",
       "  <tbody>\n",
       "    <tr>\n",
       "      <th>0</th>\n",
       "      <td>4220015</td>\n",
       "      <td>2017-01-01 SO Diaria Piezas</td>\n",
       "      <td>18</td>\n",
       "      <td>6.0</td>\n",
       "      <td>15.6</td>\n",
       "    </tr>\n",
       "    <tr>\n",
       "      <th>1</th>\n",
       "      <td>4220015</td>\n",
       "      <td>2017-01-01 SO Diaria Piezas</td>\n",
       "      <td>24</td>\n",
       "      <td>0.0</td>\n",
       "      <td>0.0</td>\n",
       "    </tr>\n",
       "    <tr>\n",
       "      <th>2</th>\n",
       "      <td>4220015</td>\n",
       "      <td>2017-01-01 SO Diaria Piezas</td>\n",
       "      <td>39</td>\n",
       "      <td>0.0</td>\n",
       "      <td>0.0</td>\n",
       "    </tr>\n",
       "    <tr>\n",
       "      <th>3</th>\n",
       "      <td>4220015</td>\n",
       "      <td>2017-01-01 SO Diaria Piezas</td>\n",
       "      <td>44</td>\n",
       "      <td>0.0</td>\n",
       "      <td>0.0</td>\n",
       "    </tr>\n",
       "    <tr>\n",
       "      <th>4</th>\n",
       "      <td>4220015</td>\n",
       "      <td>2017-01-01 SO Diaria Piezas</td>\n",
       "      <td>46</td>\n",
       "      <td>0.0</td>\n",
       "      <td>0.0</td>\n",
       "    </tr>\n",
       "  </tbody>\n",
       "</table>\n",
       "</div>"
      ],
      "text/plain": [
       "       Sku                         Date  Store_Id  Units  Price\n",
       "0  4220015  2017-01-01 SO Diaria Piezas        18    6.0   15.6\n",
       "1  4220015  2017-01-01 SO Diaria Piezas        24    0.0    0.0\n",
       "2  4220015  2017-01-01 SO Diaria Piezas        39    0.0    0.0\n",
       "3  4220015  2017-01-01 SO Diaria Piezas        44    0.0    0.0\n",
       "4  4220015  2017-01-01 SO Diaria Piezas        46    0.0    0.0"
      ]
     },
     "execution_count": 10,
     "metadata": {},
     "output_type": "execute_result"
    }
   ],
   "source": []
  },
  {
   "cell_type": "code",
   "execution_count": 70,
   "id": "877121cb-013b-4325-a8b9-f5c40c8ab64a",
   "metadata": {},
   "outputs": [],
   "source": [
    "## Step 1: Data Exploration and Preparation"
   ]
  },
  {
   "cell_type": "code",
   "execution_count": null,
   "id": "966c81b3-7365-4945-acf3-5bdee84fb8f8",
   "metadata": {},
   "outputs": [],
   "source": [
    "# Required libraries\n",
    "import pandas as pd\n",
    "import numpy as np\n",
    "from sklearn.model_selection import train_test_split\n",
    "from sklearn.ensemble import RandomForestRegressor\n",
    "from statsmodels.tsa.arima.model import ARIMA\n",
    "import matplotlib.pyplot as plt\n",
    "\n",
    "# Load datasets (assuming CSV format)\n",
    "stores_df = pd.read_csv(\"stores.csv\")\n",
    "products_df = pd.read_csv(\"products.csv\")\n",
    "sales_df = pd.read_csv(\"sales.csv\")\n",
    "\n",
    "# Merge sales data with product and store info for better analysis\n",
    "sales_data = sales_df.merge(products_df, on=\"Sku\", how=\"left\").merge(stores_df, on=\"Store_Id\", how=\"left\")\n",
    "\n",
    "# Check for missing values\n",
    "print(sales_data.isnull().sum())\n",
    "\n",
    "# Filling missing values if necessary (e.g., fill missing prices or units with the median)\n",
    "sales_data['Price'] = sales_data['Price'].fillna(sales_data['Price'].median())\n",
    "sales_data['Units'] = sales_data['Units'].fillna(sales_data['Units'].median())\n",
    "\n",
    "# Convert the 'Date' column to datetime\n",
    "sales_data['Date'] = pd.to_datetime(sales_data['Date'])\n",
    "\n",
    "# Sort data by date for time series analysis\n",
    "sales_data = sales_data.sort_values('Date')\n"
   ]
  },
  {
   "cell_type": "code",
   "execution_count": null,
   "id": "dbb03c5f-defc-4d4d-bf96-a96297da6d9d",
   "metadata": {},
   "outputs": [],
   "source": [
    "## Step 2: Feature Engineering"
   ]
  },
  {
   "cell_type": "code",
   "execution_count": null,
   "id": "50bd0d8a-2bc9-44d9-b46f-6394067329e3",
   "metadata": {},
   "outputs": [],
   "source": [
    "# Extract useful features from date (day of the week, month, etc.)\n",
    "sales_data['Day_of_Week'] = sales_data['Date'].dt.dayofweek\n",
    "sales_data['Month'] = sales_data['Date'].dt.month\n",
    "\n",
    "# Create lag features (previous day’s sales for time series modeling)\n",
    "sales_data['Lag_1'] = sales_data['Units'].shift(1)\n",
    "sales_data['Lag_7'] = sales_data['Units'].shift(7)\n",
    "\n",
    "# Remove NA values created by lags\n",
    "sales_data = sales_data.dropna()\n"
   ]
  },
  {
   "cell_type": "code",
   "execution_count": null,
   "id": "1f28f8e6-4184-47e0-a59c-a74ce332d431",
   "metadata": {},
   "outputs": [],
   "source": [
    "## Step 3: Demand Prediction (Time Series Forecasting)"
   ]
  },
  {
   "cell_type": "code",
   "execution_count": null,
   "id": "b1d1d0d3-55d3-4930-9734-f7a26e6471a6",
   "metadata": {},
   "outputs": [],
   "source": [
    "# Aggregate sales per day (for all SKUs or per SKU)\n",
    "daily_sales = sales_data.groupby('Date')['Units'].sum()\n",
    "\n",
    "# Fit an ARIMA model to predict future demand\n",
    "model = ARIMA(daily_sales, order=(5,1,0))  # Example parameters (p, d, q)\n",
    "arima_model = model.fit()\n",
    "\n",
    "# Forecast the next 30 days (i.e., for the next month)\n",
    "forecast = arima_model.forecast(steps=30)\n",
    "print(forecast)\n",
    "\n",
    "# Plot the results\n",
    "plt.plot(daily_sales, label=\"Actual Sales\")\n",
    "plt.plot(forecast, label=\"Predicted Sales\", color=\"red\")\n",
    "plt.legend()\n",
    "plt.show()\n"
   ]
  },
  {
   "cell_type": "code",
   "execution_count": null,
   "id": "ff8087e3-7ebb-4389-bf9a-9d0cc657b03c",
   "metadata": {},
   "outputs": [],
   "source": [
    "## Using Random Forest Regressor for Machine Learning Prediction:"
   ]
  },
  {
   "cell_type": "code",
   "execution_count": null,
   "id": "6f13a2e1-2e8d-4973-8a5c-fc2002819dc8",
   "metadata": {},
   "outputs": [],
   "source": [
    "# Define features and target variable\n",
    "features = ['Price', 'Day_of_Week', 'Month', 'Lag_1', 'Lag_7']  # Can include more features\n",
    "target = 'Units'\n",
    "\n",
    "# Split the data into training and testing sets\n",
    "X = sales_data[features]\n",
    "y = sales_data[target]\n",
    "X_train, X_test, y_train, y_test = train_test_split(X, y, test_size=0.2, shuffle=False)\n",
    "\n",
    "# Train a Random Forest model\n",
    "rf_model = RandomForestRegressor(n_estimators=100, random_state=42)\n",
    "rf_model.fit(X_train, y_train)\n",
    "\n",
    "# Predict future demand\n",
    "predictions = rf_model.predict(X_test)\n",
    "\n",
    "# Calculate model accuracy using RMSE or MAE\n",
    "from sklearn.metrics import mean_squared_error\n",
    "rmse = np.sqrt(mean_squared_error(y_test, predictions))\n",
    "print(f'RMSE: {rmse}')\n"
   ]
  },
  {
   "cell_type": "code",
   "execution_count": null,
   "id": "c73f2ac2-f94a-4878-a448-0b6f03fb4dbb",
   "metadata": {},
   "outputs": [],
   "source": [
    "## Step 4: Price Optimization"
   ]
  },
  {
   "cell_type": "code",
   "execution_count": null,
   "id": "89b5a826-6a77-4e93-a41b-99c4ccbf8902",
   "metadata": {},
   "outputs": [],
   "source": [
    "from sklearn.linear_model import LinearRegression\n",
    "\n",
    "# Prepare the data for price elasticity analysis\n",
    "elasticity_data = sales_data[['Price', 'Units']]\n",
    "\n",
    "# Add log-transformed columns for regression\n",
    "elasticity_data['Log_Price'] = np.log(elasticity_data['Price'])\n",
    "elasticity_data['Log_Units'] = np.log(elasticity_data['Units'])\n",
    "\n",
    "# Fit a linear regression model to estimate price elasticity\n",
    "X = elasticity_data[['Log_Price']]\n",
    "y = elasticity_data['Log_Units']\n",
    "elasticity_model = LinearRegression()\n",
    "elasticity_model.fit(X, y)\n",
    "\n",
    "# The coefficient represents price elasticity\n",
    "elasticity = elasticity_model.coef_[0]\n",
    "print(f\"Price Elasticity: {elasticity}\")\n"
   ]
  },
  {
   "cell_type": "code",
   "execution_count": null,
   "id": "794e4326-110e-4a74-8f7f-dff09793eaaf",
   "metadata": {},
   "outputs": [],
   "source": [
    "## Finding Optimal Price:"
   ]
  },
  {
   "cell_type": "code",
   "execution_count": null,
   "id": "946db0c1-a7c0-40d6-bbdd-321a82476003",
   "metadata": {},
   "outputs": [],
   "source": [
    "# Assuming demand follows a simple linear relationship, calculate the optimal price\n",
    "# Objective: maximize revenue (price * demand)\n",
    "\n",
    "optimal_price = - (elasticity_model.intercept_ / (2 * elasticity))\n",
    "print(f\"Optimal Price: {optimal_price}\")\n"
   ]
  },
  {
   "cell_type": "code",
   "execution_count": null,
   "id": "bf5b4adb-d2fe-49c8-9e3b-5c2e748c7e1b",
   "metadata": {},
   "outputs": [],
   "source": [
    "Next Steps:\n",
    "Evaluate Models: Test the prediction model on unseen data and calculate additional metrics such as Mean Absolute Error (MAE).\n",
    "Price Optimization: The price elasticity model can be further refined by incorporating additional variables like promotions or competition data."
   ]
  }
 ],
 "metadata": {
  "kernelspec": {
   "display_name": "Python 3 (ipykernel)",
   "language": "python",
   "name": "python3"
  },
  "language_info": {
   "codemirror_mode": {
    "name": "ipython",
    "version": 3
   },
   "file_extension": ".py",
   "mimetype": "text/x-python",
   "name": "python",
   "nbconvert_exporter": "python",
   "pygments_lexer": "ipython3",
   "version": "3.9.13"
  }
 },
 "nbformat": 4,
 "nbformat_minor": 5
}
